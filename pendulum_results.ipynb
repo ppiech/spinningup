{
 "cells": [
  {
   "cell_type": "code",
   "execution_count": null,
   "metadata": {},
   "outputs": [],
   "source": [
    "import seaborn as sns\n",
    "import pandas as pd\n",
    "import matplotlib.pyplot as plt\n",
    "import json\n",
    "import os\n",
    "import os.path as osp\n",
    "import numpy as np\n",
    "from spinup.utils.plot import get_datasets, get_all_datasets, plot_data"
   ]
  },
  {
   "cell_type": "code",
   "execution_count": null,
   "metadata": {
    "scrolled": true
   },
   "outputs": [],
   "source": [
    "datasets, configs = get_all_datasets(['/Users/ppiech/openaigym/spindata/discount-rates/'])\n",
    "\n",
    "# Show a sample of the data\n",
    "pd.concat(datasets, ignore_index=True)"
   ]
  },
  {
   "cell_type": "code",
   "execution_count": null,
   "metadata": {},
   "outputs": [],
   "source": [
    "# Show table of parameters used in the experiment, used as guide to graph legends\n",
    "\n",
    "def config_values(config, paths):\n",
    "    values = []\n",
    "    for path in paths:\n",
    "        value = config\n",
    "        for name in path.split(':'):\n",
    "            value = value[name]\n",
    "        values.append(value)\n",
    "    return values\n",
    "\n",
    "columns = ['exp_name', \n",
    "#           'steps_per_epoch',\n",
    "#           'use_reward_discount',\n",
    "           'goal_octaves', \n",
    "            'goal_discount_rate', \n",
    "#           'no_step_reward', \n",
    "#           'finish_action_path_on_new_goal', \n",
    "#            'ac_kwargs:hidden_sizes', \n",
    "#            'ac_kwargs:activation', \n",
    "#            'inverse_kwargs:hidden_sizes', \n",
    "#            'inverse_kwargs:activation', \n",
    "#            'inverse_kwargs:goals_output_activation'\n",
    "          ]\n",
    "\n",
    "data = list(map(lambda config: config_values(config, columns), configs))\n",
    "df = pd.DataFrame(data=data, columns=columns)\n",
    "df.drop_duplicates()"
   ]
  },
  {
   "cell_type": "code",
   "execution_count": null,
   "metadata": {},
   "outputs": [],
   "source": [
    "plt.figure(figsize=(20, 15), dpi=150)\n",
    "\n",
    "# To show individual runs, add arguments: units='Condition2, estimator=None\n",
    "\n",
    "plot_data(datasets, smooth=5)\n",
    "plt.show()"
   ]
  },
  {
   "cell_type": "code",
   "execution_count": null,
   "metadata": {},
   "outputs": [],
   "source": [
    "plt.figure(figsize=(14, 8), dpi=150)\n",
    "plot_data(datasets, value='StabilityGoalError', smooth=1, show_legend=False, estimator='mean')\n",
    "plt.show()"
   ]
  },
  {
   "cell_type": "code",
   "execution_count": null,
   "metadata": {},
   "outputs": [],
   "source": [
    "plt.figure(figsize=(14, 8), dpi=150)\n",
    "plot_data(datasets, value='StabilityActionError', smooth=1, show_legend=False)\n",
    "plt.show()"
   ]
  },
  {
   "cell_type": "code",
   "execution_count": null,
   "metadata": {},
   "outputs": [],
   "source": [
    "plt.figure(figsize=(14, 8), dpi=150)\n",
    "plot_data(datasets, value='GoalDiscount', smooth=1, show_legend=False)\n",
    "plt.show()"
   ]
  },
  {
   "cell_type": "code",
   "execution_count": null,
   "metadata": {},
   "outputs": [],
   "source": [
    "plt.figure(figsize=(14, 8), dpi=150)\n",
    "plot_data(datasets, value='ActionsEntropy', smooth=1, show_legend=False)\n",
    "plt.show()"
   ]
  },
  {
   "cell_type": "code",
   "execution_count": null,
   "metadata": {},
   "outputs": [],
   "source": [
    "plt.figure(figsize=(14, 8), dpi=150)\n",
    "plot_data(datasets, value='GoalsEntropy', smooth=1, show_legend=False)\n",
    "plt.show()"
   ]
  }
 ],
 "metadata": {
  "kernelspec": {
   "display_name": "Spinning Up",
   "language": "python",
   "name": "myenv"
  },
  "language_info": {
   "codemirror_mode": {
    "name": "ipython",
    "version": 3
   },
   "file_extension": ".py",
   "mimetype": "text/x-python",
   "name": "python",
   "nbconvert_exporter": "python",
   "pygments_lexer": "ipython3",
   "version": "3.6.4"
  }
 },
 "nbformat": 4,
 "nbformat_minor": 2
}
