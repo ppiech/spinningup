{
 "cells": [
  {
   "cell_type": "markdown",
   "metadata": {},
   "source": [
    "## Architecture\n",
    "\n",
    "My Hierarchical Reinforcement Learning architecture consists of a lower-level (Actions) PPO policy which chooses actions for the environment and a higher-level (Goaly) PPO policy which sets goals for the Actions policy.  There is also an inverse-dynamics model trained to predict both the action and goal taken at each step.  \n",
    "\n",
    "\n",
    "## Intrinsic Reward\n",
    "\n",
    "Both policies are trained separately based on extrinsic and intrinsic rewards.  The intrinsic reward is calculated based on \n",
    "\n",
    "\n",
    "\n",
    "\n",
    "## Exploration\n",
    "\n"
   ]
  },
  {
   "cell_type": "code",
   "execution_count": null,
   "metadata": {},
   "outputs": [],
   "source": []
  }
 ],
 "metadata": {
  "kernelspec": {
   "display_name": "Spinning Up",
   "language": "python",
   "name": "myenv"
  },
  "language_info": {
   "codemirror_mode": {
    "name": "ipython",
    "version": 3
   },
   "file_extension": ".py",
   "mimetype": "text/x-python",
   "name": "python",
   "nbconvert_exporter": "python",
   "pygments_lexer": "ipython3",
   "version": "3.6.4"
  }
 },
 "nbformat": 4,
 "nbformat_minor": 2
}
